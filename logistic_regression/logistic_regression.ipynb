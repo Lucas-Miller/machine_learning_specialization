{
 "cells": [
  {
   "cell_type": "markdown",
   "metadata": {},
   "source": [
    "# Logistic Regressions\n",
    "\n",
    "Sometimes we want to predict one of two possible outcomes based on some given data. For example, we might look at data about the size of a tumor and make a decision to determine if it is cancerous or non cancerous. This is an example of a binary classification task and we can make a machine learning model that is capable of doing this kind of classification.\n",
    "\n",
    "This can be done through logistic regressions which unlike a linear or polynomial regression that predicts continuous numerical values, will instead predict the probability that some given input data belongs to a certain 'class'.\n",
    "\n",
    "This can be done by utilizing the logistic function known as the sigmoid function and applying it to the linear combination of input features of our data. The function ensures our output is always 0 or 1.\n",
    "\n",
    "Logistic Regression utilizes a threshold to make the determination of which 'class' the input belongs to.\n",
    "\n",
    "Let's learn about this type of regression and attempt to build our own version"
   ]
  },
  {
   "cell_type": "markdown",
   "metadata": {},
   "source": []
  }
 ],
 "metadata": {
  "language_info": {
   "name": "python"
  }
 },
 "nbformat": 4,
 "nbformat_minor": 2
}
