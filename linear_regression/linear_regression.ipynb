{
 "cells": [
  {
   "cell_type": "code",
   "execution_count": 1,
   "metadata": {},
   "outputs": [
    {
     "name": "stdout",
     "output_type": "stream",
     "text": [
      "Collecting numpy\n",
      "  Downloading numpy-1.26.4-cp311-cp311-win_amd64.whl (15.8 MB)\n",
      "     --------------------------------------- 15.8/15.8 MB 59.4 MB/s eta 0:00:00\n",
      "Installing collected packages: numpy\n",
      "Successfully installed numpy-1.26.4\n",
      "Note: you may need to restart the kernel to use updated packages.\n"
     ]
    },
    {
     "name": "stderr",
     "output_type": "stream",
     "text": [
      "\n",
      "[notice] A new release of pip available: 22.3.1 -> 24.0\n",
      "[notice] To update, run: python.exe -m pip install --upgrade pip\n"
     ]
    },
    {
     "name": "stdout",
     "output_type": "stream",
     "text": [
      "Collecting matplotlib\n",
      "  Downloading matplotlib-3.8.4-cp311-cp311-win_amd64.whl (7.7 MB)\n",
      "     ---------------------------------------- 7.7/7.7 MB 22.2 MB/s eta 0:00:00\n",
      "Collecting contourpy>=1.0.1\n",
      "  Downloading contourpy-1.2.1-cp311-cp311-win_amd64.whl (188 kB)\n",
      "     ------------------------------------- 188.2/188.2 kB 11.9 MB/s eta 0:00:00\n",
      "Collecting cycler>=0.10\n",
      "  Downloading cycler-0.12.1-py3-none-any.whl (8.3 kB)\n",
      "Collecting fonttools>=4.22.0\n",
      "  Downloading fonttools-4.51.0-cp311-cp311-win_amd64.whl (2.2 MB)\n",
      "     ---------------------------------------- 2.2/2.2 MB 70.3 MB/s eta 0:00:00\n",
      "Collecting kiwisolver>=1.3.1\n",
      "  Downloading kiwisolver-1.4.5-cp311-cp311-win_amd64.whl (56 kB)\n",
      "     ---------------------------------------- 56.1/56.1 kB ? eta 0:00:00\n",
      "Requirement already satisfied: numpy>=1.21 in c:\\users\\mille\\appdata\\local\\programs\\python\\python311\\lib\\site-packages (from matplotlib) (1.26.4)\n",
      "Requirement already satisfied: packaging>=20.0 in c:\\users\\mille\\appdata\\roaming\\python\\python311\\site-packages (from matplotlib) (24.0)\n",
      "Collecting pillow>=8\n",
      "  Downloading pillow-10.3.0-cp311-cp311-win_amd64.whl (2.5 MB)\n",
      "     ---------------------------------------- 2.5/2.5 MB 53.6 MB/s eta 0:00:00\n",
      "Collecting pyparsing>=2.3.1\n",
      "  Downloading pyparsing-3.1.2-py3-none-any.whl (103 kB)\n",
      "     -------------------------------------- 103.2/103.2 kB 6.2 MB/s eta 0:00:00\n",
      "Requirement already satisfied: python-dateutil>=2.7 in c:\\users\\mille\\appdata\\roaming\\python\\python311\\site-packages (from matplotlib) (2.9.0.post0)\n",
      "Requirement already satisfied: six>=1.5 in c:\\users\\mille\\appdata\\roaming\\python\\python311\\site-packages (from python-dateutil>=2.7->matplotlib) (1.16.0)\n",
      "Installing collected packages: pyparsing, pillow, kiwisolver, fonttools, cycler, contourpy, matplotlib\n",
      "Successfully installed contourpy-1.2.1 cycler-0.12.1 fonttools-4.51.0 kiwisolver-1.4.5 matplotlib-3.8.4 pillow-10.3.0 pyparsing-3.1.2\n",
      "Note: you may need to restart the kernel to use updated packages.\n"
     ]
    },
    {
     "name": "stderr",
     "output_type": "stream",
     "text": [
      "\n",
      "[notice] A new release of pip available: 22.3.1 -> 24.0\n",
      "[notice] To update, run: python.exe -m pip install --upgrade pip\n"
     ]
    }
   ],
   "source": [
    "%pip install numpy\n",
    "%pip install matplotlib"
   ]
  },
  {
   "cell_type": "code",
   "execution_count": 2,
   "metadata": {},
   "outputs": [],
   "source": [
    "import numpy as np\n",
    "import matplotlib.pyplot as plt\n",
    "from utils import *\n",
    "import copy\n",
    "import math\n",
    "%matplotlib inline"
   ]
  },
  {
   "cell_type": "code",
   "execution_count": 4,
   "metadata": {},
   "outputs": [],
   "source": [
    "# load the dataset\n",
    "x_train, y_train = load_data()"
   ]
  },
  {
   "cell_type": "code",
   "execution_count": 8,
   "metadata": {},
   "outputs": [
    {
     "name": "stdout",
     "output_type": "stream",
     "text": [
      "Type of x_train: <class 'numpy.ndarray'>\n",
      "First five elements of x_train are:\n",
      " [6.1101 5.5277 8.5186 7.0032 5.8598]\n",
      " \n",
      "Type of y_train: <class 'numpy.ndarray'>\n",
      "First five elements of y_train are:\n",
      " [17.592   9.1302 13.662  11.854   6.8233]\n"
     ]
    }
   ],
   "source": [
    "# Print out the x_train and y_train dataset variables\n",
    "print(\"Type of x_train:\",type(x_train))\n",
    "print(\"First five elements of x_train are:\\n\", x_train[:5]) \n",
    "\n",
    "print(\" \")\n",
    "\n",
    "print(\"Type of y_train:\", type(y_train))\n",
    "print(\"First five elements of y_train are:\\n\", y_train[:5])"
   ]
  },
  {
   "cell_type": "markdown",
   "metadata": {},
   "source": [
    "x_train is a numpy array that is 1 dimensional and consists of decimal points greater that 0\n",
    "- Each decimal times 10,000 is the population of a given city\n",
    "- For example, 2.2101 represents a city population of 21,101"
   ]
  },
  {
   "cell_type": "markdown",
   "metadata": {},
   "source": [
    "y_train is also a numpy array that is 1 dimmmensional and consists of decimal points but some are negative and others are positive.\n",
    "\n",
    "- These represent a restraunts average monthly profits in a given city in units of 10,000 dollars\n",
    "- For example, -2.5805 represents -$25,805 dollars in average monthly loss for that particular restraunt"
   ]
  },
  {
   "cell_type": "code",
   "execution_count": 14,
   "metadata": {},
   "outputs": [
    {
     "name": "stdout",
     "output_type": "stream",
     "text": [
      "Shape of x_train:  (97,)\n",
      "Shape of y_train:  (97,)\n",
      "Number of training examples:  97\n"
     ]
    }
   ],
   "source": [
    "# Now we want to print the shape of our training data to see how many training examples we have\n",
    "# we can do this using the numpy shape function\n",
    "\n",
    "print(\"Shape of x_train: \", x_train.shape)\n",
    "print(\"Shape of y_train: \", y_train.shape)\n",
    "\n",
    "\n",
    "# Our training data should always have the same number of x examples as it does y.\n",
    "# If this is not the case then there may be something wrong with the dataset.\n",
    "if len(x_train) == len(y_train):\n",
    "    print(\"Number of training examples: \", len(x_train))\n",
    "else:\n",
    "    print(\"Inconsistent number of training examples of x_train and y_train\")"
   ]
  },
  {
   "cell_type": "markdown",
   "metadata": {},
   "source": [
    "We can see that our x and y data sets are both 1D numpy arrays with a length of 97. The length is our number of training examples."
   ]
  },
  {
   "cell_type": "markdown",
   "metadata": {},
   "source": [
    "It can be very useful to graphically display our data so we can visualize it. This example only has 2 inputs, an x and a y value which lends itself very well to a typical scatter plot. We can use matplotlib to make a scatter plot of our data."
   ]
  },
  {
   "cell_type": "code",
   "execution_count": 17,
   "metadata": {},
   "outputs": [
    {
     "data": {
      "image/png": "[encoded data removed]",
      "text/plain": [
       "<Figure size 640x480 with 1 Axes>"
      ]
     },
     "metadata": {},
     "output_type": "display_data"
    }
   ],
   "source": [
    "# Create a scatter plot based on the data in x_train and y_train\n",
    "plt.scatter(x_train, y_train, marker='x', c='r')\n",
    "\n",
    "# We can give it a title to make it more clear what relationship we are showing\n",
    "plt.title(\"Profits vs Population per city\")\n",
    "\n",
    "# Set the y-axis label\n",
    "plt.ylabel('Profit in $10,000')\n",
    "# Set the x-axis label\n",
    "plt.xlabel('Population of City in 10,000s')\n",
    "\n",
    "# Show the scatter plot\n",
    "plt.show()"
   ]
  },
  {
   "cell_type": "markdown",
   "metadata": {},
   "source": [
    "Now that we can visualize our data, it should be easier to understand our goal which is to create a line that best fits this data. Once we have found the line that fits, we can apply it to new data to make predictions. For example, we can give it a new city's population and get a prediction for what the monthly profits in that city will be."
   ]
  },
  {
   "cell_type": "markdown",
   "metadata": {},
   "source": [
    "Remember that a linear regression can be represented with the following function:\n",
    "\n",
    "$$f_{w,b}(x) = wx + b$$\n",
    "\n",
    "and our goal is to find an optimal set of values for the parameters w and b to best fit our data.\n",
    "\n",
    "We determine that one set of parameters for w and b are better than another set based on the results of what we call the cost function.\n",
    "\n",
    "The cost function also takes the parameters w and b and returns a value based on them.\n",
    "\n",
    "The values that best fit our data will be the ones that produce the minimum value of the cost function.\n",
    "\n",
    "To find the values of w and b that find the smallest value of the cost function, we utilize the gradient descent algorithm.\n",
    "\n",
    "With each step in the gradient descent algorithm, the values of w and b get closer to the values that produce the smallest value of the cost function.\n",
    "\n"
   ]
  },
  {
   "cell_type": "markdown",
   "metadata": {},
   "source": [
    "Next we need to implement the cost function. The cost function we are using is called the mean squared error function. The function is defined by the following formula for f(w,b):\n",
    "\n",
    "$$J(w,b) = \\frac{1}{2m} \\sum\\limits_{i = 0}^{m-1} (f_{w,b}(x^{(i)}) - y^{(i)})^2$$ \n",
    "\n",
    "The inner part of this formula has 2 parts, the first part is:\n",
    "$$f_{w,b}(x^{(i)})$$\n",
    "\n",
    "which is actually just the result of our model for a given value of x from our data set. In other words, it is the value our model predicted for some value of x. \n",
    "\n",
    "As a reminder, our model uses the function f(w,b) which is defined by this formula:\n",
    "\n",
    "$$\n",
    "f_{wb}(x^{(i)}) =  wx^{(i)} + b \n",
    "$$\n",
    "\n",
    "The second part of the function is just\n",
    "\n",
    "$$y^{(i)}$$\n",
    "\n",
    "which is the actual expected value for some value of x."
   ]
  },
  {
   "cell_type": "markdown",
   "metadata": {},
   "source": [
    "Inside the parentheses, we are subtracting our predicted value from our expected output to determine how far off our prediction was. We are then squaring that resulting difference.\n",
    "\n",
    "We square the difference for 3 reasons:\n",
    "- Squaring ensures our error value is positive\n",
    "- It penalizes larger errors more than smaller errors\n",
    "- To ensure smooth differentiability for the gradient decent algorithm\n",
    "\n",
    "We then need to sum all of the values we get from those functions for all training examples.\n",
    "\n",
    "m represents the number of training examples of our data and we start our index for i at 0. Since we are using zero based indexing we will go from 0 to (m - 1).\n",
    "\n",
    "Once we have our sum, we can divide it by 2m to get our cost."
   ]
  },
  {
   "cell_type": "code",
   "execution_count": 28,
   "metadata": {},
   "outputs": [],
   "source": [
    "def compute_cost(x, y, w, b):\n",
    "    \n",
    "    # num of training examples, assuming x and y have same length\n",
    "    m = x.shape[0]\n",
    "    \n",
    "    # The final cost value\n",
    "    total_cost = 0\n",
    "\n",
    "    # This represents the local sum from the mean squared error function in our formula \n",
    "    cost_sum = 0\n",
    "    for i in range(m):\n",
    "        prediction = w * x[i] + b\n",
    "        cost_sum += (prediction - y[i])**2\n",
    "    \n",
    "    # This represents the final division we do after we have summed all the values\n",
    "    total_cost = cost_sum / (2 * m)\n",
    "\n",
    "    return total_cost\n",
    "\n",
    "\n"
   ]
  },
  {
   "cell_type": "markdown",
   "metadata": {},
   "source": [
    "Now that we have implemented our cost function, we can run it against some test cases using the code below."
   ]
  },
  {
   "cell_type": "code",
   "execution_count": 29,
   "metadata": {},
   "outputs": [
    {
     "name": "stdout",
     "output_type": "stream",
     "text": [
      "<class 'numpy.float64'>\n",
      "Cost at initial w: 75.203\n",
      "\u001b[92mAll tests passed!\n"
     ]
    }
   ],
   "source": [
    "# Compute cost with some initial values for paramaters w, b\n",
    "initial_w = 2\n",
    "initial_b = 1\n",
    "\n",
    "cost = compute_cost(x_train, y_train, initial_w, initial_b)\n",
    "print(type(cost))\n",
    "print(f'Cost at initial w: {cost:.3f}')\n",
    "\n",
    "# Public tests\n",
    "from public_tests import *\n",
    "compute_cost_test(compute_cost)"
   ]
  },
  {
   "cell_type": "markdown",
   "metadata": {},
   "source": [
    "### Gradient Decent\n",
    "\n",
    "Now that we have our cost function in place, we need to implement the gradient descent algorithm that will optimize our parameters for w and b to minimize the cost function.\n",
    "\n",
    "The formula for the gradient descent algorithm looks like this:\n",
    "\n",
    "$$\\begin{align*}& \\text{repeat until convergence:} \\; \\lbrace \\newline \\; & \\phantom {0000} b := b -  \\alpha \\frac{\\partial J(w,b)}{\\partial b} \\newline       \\; & \\phantom {0000} w := w -  \\alpha \\frac{\\partial J(w,b)}{\\partial w} \\tag{1}  \\; & \n",
    "\\newline & \\rbrace\\end{align*}$$\n",
    "\n",
    "\n",
    "This looks a bit scary so lets break it down a little. As stated, the algorithm is repeatedly updating the values of b and w until we reach convergence. We determine that we have hit convergence when the value of the cost function hits its minimum point or to put it simply, the value stops decreasing.\n",
    "\n",
    "Each update step involves a couple of different components. In the update step for b we take\n",
    "\n",
    "$$\n",
    "b -  \\alpha \\frac{\\partial J(w,b)}{\\partial b}\n",
    "$$\n",
    "\n",
    "where alpha is the learning rate for the algorithm. Alpha controls how 'big of a step' we take with the gradient decent, too large of an alpha value may mean we skip over a minimum while to small may mean the algorithm is very slow.\n",
    "\n",
    "The derivative portion of the update step for b is known as the gradient. This is a partial derivative of the cost function with respect to the value b. This tells us how the cost function changes as b changes while w remains constant.\n",
    "\n",
    "The update steps for w are very similar but we instead are using the partial derivative of the cost function with respect to w instead of with respect to b. This tells us how the cost function changes as w changes while b remains constant. We subtract this from the value of w just like we did with b in the other update step.\n",
    "\n",
    "These steps are repeated until the output of the cost function stops decreasing, again we refer to this as convergance."
   ]
  },
  {
   "cell_type": "markdown",
   "metadata": {},
   "source": [
    "The partial derivatives can be expressed more simply as:\n",
    "\n",
    "where, parameters $w, b$ are both updated simultaniously and where  \n",
    "$$\n",
    "\\frac{\\partial J(w,b)}{\\partial b}  = \\frac{1}{m} \\sum\\limits_{i = 0}^{m-1} (f_{w,b}(x^{(i)}) - y^{(i)}) \\tag{2}\n",
    "$$\n",
    "$$\n",
    "\\frac{\\partial J(w,b)}{\\partial w}  = \\frac{1}{m} \\sum\\limits_{i = 0}^{m-1} (f_{w,b}(x^{(i)}) -y^{(i)})x^{(i)} \\tag{3}\n",
    "$$\n",
    "* m is the number of training examples in the dataset\n",
    "\n",
    "    \n",
    "*  $f_{w,b}(x^{(i)})$ is the model's prediction, while $y^{(i)}$, is the target value\n",
    "\n",
    "Notice that the partial derivative with respect to w is very similar to the partial derivative with respect to b. The only difference is that with respect to w, we are multiplying the partial derivative with respect to b by x at it.\n",
    "\n",
    "Let's try and implement a function called compute_gradient that calculates the partial derivatives aka the gradients with respect to w and with respect to b."
   ]
  },
  {
   "cell_type": "code",
   "execution_count": 30,
   "metadata": {},
   "outputs": [],
   "source": [
    "def compute_gradient(x, y, w, b):\n",
    "\n",
    "    # Number of training examples\n",
    "    m = x.shape[0]\n",
    "\n",
    "    dj_dw = 0\n",
    "    dj_db = 0\n",
    "\n",
    "    for i in range(m):\n",
    "        prediction = w * x[i] + b\n",
    "        error = prediction - y[i]\n",
    "        dj_db += error\n",
    "        dj_dw += error * x[i]\n",
    "\n",
    "    dj_db = dj_db / m\n",
    "    dj_dw = dj_dw / m\n",
    "\n",
    "    return dj_dw, dj_db"
   ]
  },
  {
   "cell_type": "markdown",
   "metadata": {},
   "source": [
    "Now that we have compute_gradient implemented, lets run it against some test cases."
   ]
  },
  {
   "cell_type": "code",
   "execution_count": 31,
   "metadata": {},
   "outputs": [
    {
     "name": "stdout",
     "output_type": "stream",
     "text": [
      "Gradient at initial w, b (zeros): -65.32884974555672 -5.83913505154639\n",
      "Using X with shape (4, 1)\n",
      "\u001b[92mAll tests passed!\n"
     ]
    }
   ],
   "source": [
    "# Compute and display gradient with w initialized to zeroes\n",
    "initial_w = 0\n",
    "initial_b = 0\n",
    "\n",
    "tmp_dj_dw, tmp_dj_db = compute_gradient(x_train, y_train, initial_w, initial_b)\n",
    "print('Gradient at initial w, b (zeros):', tmp_dj_dw, tmp_dj_db)\n",
    "\n",
    "compute_gradient_test(compute_gradient)"
   ]
  },
  {
   "cell_type": "markdown",
   "metadata": {},
   "source": [
    "Now that we know our implementation of compute_gradient works, lets use it on our dataset."
   ]
  },
  {
   "cell_type": "code",
   "execution_count": 32,
   "metadata": {},
   "outputs": [
    {
     "name": "stdout",
     "output_type": "stream",
     "text": [
      "Gradient at test w, b: -47.41610118114435 -4.007175051546391\n"
     ]
    }
   ],
   "source": [
    "# Compute and display cost and gradient with non-zero w\n",
    "test_w = 0.2\n",
    "test_b = 0.2\n",
    "tmp_dj_dw, tmp_dj_db = compute_gradient(x_train, y_train, test_w, test_b)\n",
    "\n",
    "print('Gradient at test w, b:', tmp_dj_dw, tmp_dj_db)"
   ]
  },
  {
   "cell_type": "markdown",
   "metadata": {},
   "source": [
    "**Expected Output**:\n",
    "<table>\n",
    "  <tr>\n",
    "    <td> <b>Gradient at test w<b></td>\n",
    "    <td> -47.41610118 -4.007175051546391</td> \n",
    "  </tr>\n",
    "</table>"
   ]
  },
  {
   "cell_type": "markdown",
   "metadata": {},
   "source": [
    "Now lets run batch gradient descent"
   ]
  },
  {
   "cell_type": "code",
   "execution_count": 48,
   "metadata": {},
   "outputs": [],
   "source": [
    "def gradient_descent(x, y, w_in, b_in, cost_function, gradient_function, alpha, num_iters):\n",
    "    \"\"\"\n",
    "    Implement batch gradient descent to optimize model parameters.\n",
    "    \n",
    "    Args:\n",
    "      x :    (ndarray): Shape (m,) - Input feature array.\n",
    "      y :    (ndarray): Shape (m,) - Target values array.\n",
    "      w_in, b_in : (scalar) - Initial guesses for the model's parameters.\n",
    "      cost_function: Function to compute the cost of a given set of parameters.\n",
    "      gradient_function: Function to compute the gradients of the cost with respect to the parameters.\n",
    "      alpha : (float) - Learning rate, controls the step size in parameter space.\n",
    "      num_iters : (int) - Number of iterations to run the gradient descent.\n",
    "      \n",
    "    Returns:\n",
    "      w : (ndarray): Shape (1,) - Optimized value of the weight parameter after gradient descent.\n",
    "      b : (scalar) - Optimized value of the bias parameter after gradient descent.\n",
    "      J_history : (list) - Cost history over iterations, useful for debugging/visualization.\n",
    "      w_history : (list) - Weight history over iterations, useful for debugging/visualization.\n",
    "    \"\"\"\n",
    "    \n",
    "    # Initialize the number of training examples\n",
    "    m = len(x)\n",
    "    \n",
    "    # Initialize histories for storing cost J and parameter w during iterations\n",
    "    J_history = []\n",
    "    w_history = []\n",
    "\n",
    "    # Initialize local w with a deep copy to avoid modifying the global variable\n",
    "    w = copy.deepcopy(w_in)\n",
    "    b = b_in\n",
    "\n",
    "    # Initialize w and b with the input parameters. Use copy for w to avoid changing it outside the function\n",
    "\n",
    "    for i in range(num_iters):\n",
    "        # Step 1: Compute the gradients of the cost function with respect to w and b.\n",
    "        # Hint: Use the gradient_function(x, y, w, b) provided.\n",
    "        dj_dw, dj_db = gradient_function(x, y, w, b)\n",
    "\n",
    "        # Step 2: Update the parameters w and b using the gradients and the learning rate alpha.\n",
    "        # Recall the update rule: new_param = old_param - alpha * gradient\n",
    "        w = w - (alpha * dj_dw)\n",
    "        b = b - (alpha * dj_db)\n",
    "\n",
    "        # Step 3: Optionally compute the cost every iteration and append it to J_history.\n",
    "        # This is useful to check if the cost is decreasing.\n",
    "        if i < 100000:  \n",
    "          cost = cost_function(x, y, w, b)\n",
    "          J_history.append(cost)\n",
    "\n",
    "        # Step 4: Print the cost every 10% of the total iterations to monitor progress.\n",
    "        # Adjust the frequency as needed based on num_iters.\n",
    "        if i% math.ceil(num_iters / 10) == 0:\n",
    "           w_history.append(w)\n",
    "           print(f\"Iteration {i:4}: Cost {float(J_history[-1]):8.2f}   \")\n",
    "\n",
    "    # Return the optimized parameters and the cost history.\n",
    "    return w, b, J_history, w_history\n"
   ]
  },
  {
   "cell_type": "code",
   "execution_count": 49,
   "metadata": {},
   "outputs": [
    {
     "name": "stdout",
     "output_type": "stream",
     "text": [
      "Iteration    0: Cost     6.74   \n",
      "Iteration  150: Cost     5.31   \n",
      "Iteration  300: Cost     4.96   \n",
      "Iteration  450: Cost     4.76   \n",
      "Iteration  600: Cost     4.64   \n",
      "Iteration  750: Cost     4.57   \n",
      "Iteration  900: Cost     4.53   \n",
      "Iteration 1050: Cost     4.51   \n",
      "Iteration 1200: Cost     4.50   \n",
      "Iteration 1350: Cost     4.49   \n",
      "w,b found by gradient descent: 1.166362350335582 -3.63029143940436\n"
     ]
    }
   ],
   "source": [
    "# initialize fitting parameters. Recall that the shape of w is (n,)\n",
    "initial_w = 0.\n",
    "initial_b = 0.\n",
    "\n",
    "# some gradient descent settings\n",
    "iterations = 1500\n",
    "alpha = 0.01\n",
    "\n",
    "w,b,_,_ = gradient_descent(x_train ,y_train, initial_w, initial_b, \n",
    "                     compute_cost, compute_gradient, alpha, iterations)\n",
    "print(\"w,b found by gradient descent:\", w, b)"
   ]
  },
  {
   "cell_type": "markdown",
   "metadata": {},
   "source": [
    "Now that we have found our values for w and b, we can use them to make predictions for the entire data set. The following code explains how this is done."
   ]
  },
  {
   "cell_type": "code",
   "execution_count": 53,
   "metadata": {},
   "outputs": [],
   "source": [
    "# Number of training examples m\n",
    "m = x_train.shape[0]\n",
    "\n",
    "# Create a numpy array to store our predictions for every training example\n",
    "predicted = np.zeros(m)\n",
    "\n",
    "# Iterate over our training examples and assign each prediction made by our model\n",
    "# to the \"predicted\" array. \n",
    "for i in range(m):\n",
    "    predicted[i] = w * x_train[i] + b"
   ]
  },
  {
   "cell_type": "markdown",
   "metadata": {},
   "source": [
    "Next we can plot our scatter plot and the line of our regression to visually see how it fits."
   ]
  },
  {
   "cell_type": "code",
   "execution_count": 51,
   "metadata": {},
   "outputs": [
    {
     "data": {
      "text/plain": [
       "Text(0.5, 0, 'Population of City in 10,000s')"
      ]
     },
     "execution_count": 51,
     "metadata": {},
     "output_type": "execute_result"
    },
    {
     "data": {
      "image/png": "[encoded data removed]",
      "text/plain": [
       "<Figure size 640x480 with 1 Axes>"
      ]
     },
     "metadata": {},
     "output_type": "display_data"
    }
   ],
   "source": [
    "# Plot the linear fit\n",
    "plt.plot(x_train, predicted, c = \"b\")\n",
    "\n",
    "# Create a scatter plot of the data. \n",
    "plt.scatter(x_train, y_train, marker='x', c='r') \n",
    "\n",
    "# Set the title\n",
    "plt.title(\"Profits vs. Population per city\")\n",
    "# Set the y-axis label\n",
    "plt.ylabel('Profit in $10,000')\n",
    "# Set the x-axis label\n",
    "plt.xlabel('Population of City in 10,000s')"
   ]
  },
  {
   "cell_type": "markdown",
   "metadata": {},
   "source": [
    "Now that we have found our optimal values of w and b for the model, we can also utilize them to make predictions on data that isn't in our data set. We just need to pass in our own values for x. Remember that the data in x_train are floating points that represent a city population in 10,000 increments.\n",
    "\n",
    "Let's try a population of 35,000 and another at 70,000.\n",
    "\n",
    "Again, since population is in units of 10,000, we will use 3.5 for 35,000 and 7.0 for 70,000."
   ]
  },
  {
   "cell_type": "code",
   "execution_count": 52,
   "metadata": {},
   "outputs": [
    {
     "name": "stdout",
     "output_type": "stream",
     "text": [
      "For population = 35,000, we predict a profit of $4519.77\n",
      "For population = 70,000, we predict a profit of $45342.45\n"
     ]
    }
   ],
   "source": [
    "predict1 = 3.5 * w + b\n",
    "print('For population = 35,000, we predict a profit of $%.2f' % (predict1*10000))\n",
    "\n",
    "predict2 = 7.0 * w + b\n",
    "print('For population = 70,000, we predict a profit of $%.2f' % (predict2*10000))"
   ]
  },
  {
   "cell_type": "code",
   "execution_count": null,
   "metadata": {},
   "outputs": [],
   "source": []
  }
 ],
 "metadata": {
  "kernelspec": {
   "display_name": "Python 3",
   "language": "python",
   "name": "python3"
  },
  "language_info": {
   "codemirror_mode": {
    "name": "ipython",
    "version": 3
   },
   "file_extension": ".py",
   "mimetype": "text/x-python",
   "name": "python",
   "nbconvert_exporter": "python",
   "pygments_lexer": "ipython3",
   "version": "3.11.3"
  }
 },
 "nbformat": 4,
 "nbformat_minor": 2
}
